{
 "cells": [
  {
   "cell_type": "code",
   "execution_count": 1,
   "metadata": {},
   "outputs": [],
   "source": [
    "import numpy as np\n",
    "import pandas as pd\n",
    "import seaborn as sns\n",
    "import matplotlib.pyplot as plt"
   ]
  },
  {
   "cell_type": "code",
   "execution_count": 2,
   "metadata": {},
   "outputs": [],
   "source": [
    "%matplotlib inline"
   ]
  },
  {
   "cell_type": "code",
   "execution_count": 3,
   "metadata": {},
   "outputs": [],
   "source": [
    "df =  pd.read_csv('C:/Users/RJ/OneDrive/Dataset/ramen-ratings/Ramen_Ratings.csv')"
   ]
  },
  {
   "cell_type": "code",
   "execution_count": 4,
   "metadata": {},
   "outputs": [
    {
     "data": {
      "text/html": [
       "<div>\n",
       "<style>\n",
       "    .dataframe thead tr:only-child th {\n",
       "        text-align: right;\n",
       "    }\n",
       "\n",
       "    .dataframe thead th {\n",
       "        text-align: left;\n",
       "    }\n",
       "\n",
       "    .dataframe tbody tr th {\n",
       "        vertical-align: top;\n",
       "    }\n",
       "</style>\n",
       "<table border=\"1\" class=\"dataframe\">\n",
       "  <thead>\n",
       "    <tr style=\"text-align: right;\">\n",
       "      <th></th>\n",
       "      <th>Review #</th>\n",
       "      <th>Brand</th>\n",
       "      <th>Variety</th>\n",
       "      <th>Style</th>\n",
       "      <th>Country</th>\n",
       "      <th>Stars</th>\n",
       "      <th>Top Ten</th>\n",
       "    </tr>\n",
       "  </thead>\n",
       "  <tbody>\n",
       "    <tr>\n",
       "      <th>0</th>\n",
       "      <td>2580</td>\n",
       "      <td>New Touch</td>\n",
       "      <td>T's Restaurant Tantanmen</td>\n",
       "      <td>Cup</td>\n",
       "      <td>Japan</td>\n",
       "      <td>3.75</td>\n",
       "      <td>NaN</td>\n",
       "    </tr>\n",
       "    <tr>\n",
       "      <th>1</th>\n",
       "      <td>2579</td>\n",
       "      <td>Just Way</td>\n",
       "      <td>Noodles Spicy Hot Sesame Spicy Hot Sesame Guan...</td>\n",
       "      <td>Pack</td>\n",
       "      <td>Taiwan</td>\n",
       "      <td>1</td>\n",
       "      <td>NaN</td>\n",
       "    </tr>\n",
       "    <tr>\n",
       "      <th>2</th>\n",
       "      <td>2578</td>\n",
       "      <td>Nissin</td>\n",
       "      <td>Cup Noodles Chicken Vegetable</td>\n",
       "      <td>Cup</td>\n",
       "      <td>USA</td>\n",
       "      <td>2.25</td>\n",
       "      <td>NaN</td>\n",
       "    </tr>\n",
       "    <tr>\n",
       "      <th>3</th>\n",
       "      <td>2577</td>\n",
       "      <td>Wei Lih</td>\n",
       "      <td>GGE Ramen Snack Tomato Flavor</td>\n",
       "      <td>Pack</td>\n",
       "      <td>Taiwan</td>\n",
       "      <td>2.75</td>\n",
       "      <td>NaN</td>\n",
       "    </tr>\n",
       "    <tr>\n",
       "      <th>4</th>\n",
       "      <td>2576</td>\n",
       "      <td>Ching's Secret</td>\n",
       "      <td>Singapore Curry</td>\n",
       "      <td>Pack</td>\n",
       "      <td>India</td>\n",
       "      <td>3.75</td>\n",
       "      <td>NaN</td>\n",
       "    </tr>\n",
       "    <tr>\n",
       "      <th>5</th>\n",
       "      <td>2575</td>\n",
       "      <td>Samyang Foods</td>\n",
       "      <td>Kimchi song Song Ramen</td>\n",
       "      <td>Pack</td>\n",
       "      <td>South Korea</td>\n",
       "      <td>4.75</td>\n",
       "      <td>NaN</td>\n",
       "    </tr>\n",
       "    <tr>\n",
       "      <th>6</th>\n",
       "      <td>2574</td>\n",
       "      <td>Acecook</td>\n",
       "      <td>Spice Deli Tantan Men With Cilantro</td>\n",
       "      <td>Cup</td>\n",
       "      <td>Japan</td>\n",
       "      <td>4</td>\n",
       "      <td>NaN</td>\n",
       "    </tr>\n",
       "    <tr>\n",
       "      <th>7</th>\n",
       "      <td>2573</td>\n",
       "      <td>Ikeda Shoku</td>\n",
       "      <td>Nabeyaki Kitsune Udon</td>\n",
       "      <td>Tray</td>\n",
       "      <td>Japan</td>\n",
       "      <td>3.75</td>\n",
       "      <td>NaN</td>\n",
       "    </tr>\n",
       "    <tr>\n",
       "      <th>8</th>\n",
       "      <td>2572</td>\n",
       "      <td>Ripe'n'Dry</td>\n",
       "      <td>Hokkaido Soy Sauce Ramen</td>\n",
       "      <td>Pack</td>\n",
       "      <td>Japan</td>\n",
       "      <td>0.25</td>\n",
       "      <td>NaN</td>\n",
       "    </tr>\n",
       "    <tr>\n",
       "      <th>9</th>\n",
       "      <td>2571</td>\n",
       "      <td>KOKA</td>\n",
       "      <td>The Original Spicy Stir-Fried Noodles</td>\n",
       "      <td>Pack</td>\n",
       "      <td>Singapore</td>\n",
       "      <td>2.5</td>\n",
       "      <td>NaN</td>\n",
       "    </tr>\n",
       "    <tr>\n",
       "      <th>10</th>\n",
       "      <td>2570</td>\n",
       "      <td>Tao Kae Noi</td>\n",
       "      <td>Creamy tom Yum Kung Flavour</td>\n",
       "      <td>Pack</td>\n",
       "      <td>Thailand</td>\n",
       "      <td>5</td>\n",
       "      <td>NaN</td>\n",
       "    </tr>\n",
       "    <tr>\n",
       "      <th>11</th>\n",
       "      <td>2569</td>\n",
       "      <td>Yamachan</td>\n",
       "      <td>Yokohama Tonkotsu Shoyu</td>\n",
       "      <td>Pack</td>\n",
       "      <td>USA</td>\n",
       "      <td>5</td>\n",
       "      <td>NaN</td>\n",
       "    </tr>\n",
       "    <tr>\n",
       "      <th>12</th>\n",
       "      <td>2568</td>\n",
       "      <td>Nongshim</td>\n",
       "      <td>Mr. Bibim Stir-Fried Kimchi Flavor</td>\n",
       "      <td>Pack</td>\n",
       "      <td>South Korea</td>\n",
       "      <td>4.25</td>\n",
       "      <td>NaN</td>\n",
       "    </tr>\n",
       "    <tr>\n",
       "      <th>13</th>\n",
       "      <td>2567</td>\n",
       "      <td>Nissin</td>\n",
       "      <td>Deka Buto Kimchi Pork Flavor</td>\n",
       "      <td>Bowl</td>\n",
       "      <td>Japan</td>\n",
       "      <td>4.5</td>\n",
       "      <td>NaN</td>\n",
       "    </tr>\n",
       "    <tr>\n",
       "      <th>14</th>\n",
       "      <td>2566</td>\n",
       "      <td>Nissin</td>\n",
       "      <td>Demae Ramen Bar Noodle Aka Tonkotsu Flavour In...</td>\n",
       "      <td>Pack</td>\n",
       "      <td>Hong Kong</td>\n",
       "      <td>5</td>\n",
       "      <td>NaN</td>\n",
       "    </tr>\n",
       "    <tr>\n",
       "      <th>15</th>\n",
       "      <td>2565</td>\n",
       "      <td>KOKA</td>\n",
       "      <td>Mushroom Flavour Instant Noodles</td>\n",
       "      <td>Cup</td>\n",
       "      <td>Singapore</td>\n",
       "      <td>3.5</td>\n",
       "      <td>NaN</td>\n",
       "    </tr>\n",
       "    <tr>\n",
       "      <th>16</th>\n",
       "      <td>2564</td>\n",
       "      <td>TRDP</td>\n",
       "      <td>Mario Masala Noodles</td>\n",
       "      <td>Pack</td>\n",
       "      <td>India</td>\n",
       "      <td>3.75</td>\n",
       "      <td>NaN</td>\n",
       "    </tr>\n",
       "    <tr>\n",
       "      <th>17</th>\n",
       "      <td>2563</td>\n",
       "      <td>Yamachan</td>\n",
       "      <td>Tokyo Shoyu Ramen</td>\n",
       "      <td>Pack</td>\n",
       "      <td>USA</td>\n",
       "      <td>5</td>\n",
       "      <td>NaN</td>\n",
       "    </tr>\n",
       "    <tr>\n",
       "      <th>18</th>\n",
       "      <td>2562</td>\n",
       "      <td>Binh Tay</td>\n",
       "      <td>Mi Hai Cua</td>\n",
       "      <td>Pack</td>\n",
       "      <td>Vietnam</td>\n",
       "      <td>4</td>\n",
       "      <td>NaN</td>\n",
       "    </tr>\n",
       "    <tr>\n",
       "      <th>19</th>\n",
       "      <td>2561</td>\n",
       "      <td>Paldo</td>\n",
       "      <td>Premium Gomtang</td>\n",
       "      <td>Pack</td>\n",
       "      <td>South Korea</td>\n",
       "      <td>4</td>\n",
       "      <td>NaN</td>\n",
       "    </tr>\n",
       "  </tbody>\n",
       "</table>\n",
       "</div>"
      ],
      "text/plain": [
       "    Review #           Brand  \\\n",
       "0       2580       New Touch   \n",
       "1       2579        Just Way   \n",
       "2       2578          Nissin   \n",
       "3       2577         Wei Lih   \n",
       "4       2576  Ching's Secret   \n",
       "5       2575   Samyang Foods   \n",
       "6       2574         Acecook   \n",
       "7       2573     Ikeda Shoku   \n",
       "8       2572      Ripe'n'Dry   \n",
       "9       2571            KOKA   \n",
       "10      2570     Tao Kae Noi   \n",
       "11      2569        Yamachan   \n",
       "12      2568        Nongshim   \n",
       "13      2567          Nissin   \n",
       "14      2566          Nissin   \n",
       "15      2565            KOKA   \n",
       "16      2564            TRDP   \n",
       "17      2563        Yamachan   \n",
       "18      2562        Binh Tay   \n",
       "19      2561           Paldo   \n",
       "\n",
       "                                              Variety Style      Country  \\\n",
       "0                           T's Restaurant Tantanmen    Cup        Japan   \n",
       "1   Noodles Spicy Hot Sesame Spicy Hot Sesame Guan...  Pack       Taiwan   \n",
       "2                       Cup Noodles Chicken Vegetable   Cup          USA   \n",
       "3                       GGE Ramen Snack Tomato Flavor  Pack       Taiwan   \n",
       "4                                     Singapore Curry  Pack        India   \n",
       "5                              Kimchi song Song Ramen  Pack  South Korea   \n",
       "6                 Spice Deli Tantan Men With Cilantro   Cup        Japan   \n",
       "7                               Nabeyaki Kitsune Udon  Tray        Japan   \n",
       "8                            Hokkaido Soy Sauce Ramen  Pack        Japan   \n",
       "9               The Original Spicy Stir-Fried Noodles  Pack    Singapore   \n",
       "10                        Creamy tom Yum Kung Flavour  Pack     Thailand   \n",
       "11                            Yokohama Tonkotsu Shoyu  Pack          USA   \n",
       "12                 Mr. Bibim Stir-Fried Kimchi Flavor  Pack  South Korea   \n",
       "13                       Deka Buto Kimchi Pork Flavor  Bowl        Japan   \n",
       "14  Demae Ramen Bar Noodle Aka Tonkotsu Flavour In...  Pack    Hong Kong   \n",
       "15                   Mushroom Flavour Instant Noodles   Cup    Singapore   \n",
       "16                               Mario Masala Noodles  Pack        India   \n",
       "17                                  Tokyo Shoyu Ramen  Pack          USA   \n",
       "18                                         Mi Hai Cua  Pack      Vietnam   \n",
       "19                                    Premium Gomtang  Pack  South Korea   \n",
       "\n",
       "   Stars Top Ten  \n",
       "0   3.75     NaN  \n",
       "1      1     NaN  \n",
       "2   2.25     NaN  \n",
       "3   2.75     NaN  \n",
       "4   3.75     NaN  \n",
       "5   4.75     NaN  \n",
       "6      4     NaN  \n",
       "7   3.75     NaN  \n",
       "8   0.25     NaN  \n",
       "9    2.5     NaN  \n",
       "10     5     NaN  \n",
       "11     5     NaN  \n",
       "12  4.25     NaN  \n",
       "13   4.5     NaN  \n",
       "14     5     NaN  \n",
       "15   3.5     NaN  \n",
       "16  3.75     NaN  \n",
       "17     5     NaN  \n",
       "18     4     NaN  \n",
       "19     4     NaN  "
      ]
     },
     "execution_count": 4,
     "metadata": {},
     "output_type": "execute_result"
    }
   ],
   "source": [
    "df.head(20)"
   ]
  },
  {
   "cell_type": "code",
   "execution_count": 5,
   "metadata": {},
   "outputs": [],
   "source": [
    "grouped = df.groupby('Stars')"
   ]
  },
  {
   "cell_type": "code",
   "execution_count": 6,
   "metadata": {},
   "outputs": [
    {
     "data": {
      "text/plain": [
       "pandas.core.groupby.DataFrameGroupBy"
      ]
     },
     "execution_count": 6,
     "metadata": {},
     "output_type": "execute_result"
    }
   ],
   "source": [
    "type(grouped)"
   ]
  },
  {
   "cell_type": "code",
   "execution_count": 7,
   "metadata": {},
   "outputs": [
    {
     "data": {
      "text/plain": [
       "Index(['Review #', 'Brand', 'Variety', 'Style', 'Country', 'Stars', 'Top Ten'], dtype='object')"
      ]
     },
     "execution_count": 7,
     "metadata": {},
     "output_type": "execute_result"
    }
   ],
   "source": [
    "df.columns"
   ]
  },
  {
   "cell_type": "code",
   "execution_count": 8,
   "metadata": {},
   "outputs": [
    {
     "data": {
      "text/html": [
       "<div>\n",
       "<style>\n",
       "    .dataframe thead tr:only-child th {\n",
       "        text-align: right;\n",
       "    }\n",
       "\n",
       "    .dataframe thead th {\n",
       "        text-align: left;\n",
       "    }\n",
       "\n",
       "    .dataframe tbody tr th {\n",
       "        vertical-align: top;\n",
       "    }\n",
       "</style>\n",
       "<table border=\"1\" class=\"dataframe\">\n",
       "  <thead>\n",
       "    <tr style=\"text-align: right;\">\n",
       "      <th></th>\n",
       "      <th>Review #</th>\n",
       "    </tr>\n",
       "  </thead>\n",
       "  <tbody>\n",
       "    <tr>\n",
       "      <th>count</th>\n",
       "      <td>2580.000000</td>\n",
       "    </tr>\n",
       "    <tr>\n",
       "      <th>mean</th>\n",
       "      <td>1290.500000</td>\n",
       "    </tr>\n",
       "    <tr>\n",
       "      <th>std</th>\n",
       "      <td>744.926171</td>\n",
       "    </tr>\n",
       "    <tr>\n",
       "      <th>min</th>\n",
       "      <td>1.000000</td>\n",
       "    </tr>\n",
       "    <tr>\n",
       "      <th>25%</th>\n",
       "      <td>645.750000</td>\n",
       "    </tr>\n",
       "    <tr>\n",
       "      <th>50%</th>\n",
       "      <td>1290.500000</td>\n",
       "    </tr>\n",
       "    <tr>\n",
       "      <th>75%</th>\n",
       "      <td>1935.250000</td>\n",
       "    </tr>\n",
       "    <tr>\n",
       "      <th>max</th>\n",
       "      <td>2580.000000</td>\n",
       "    </tr>\n",
       "  </tbody>\n",
       "</table>\n",
       "</div>"
      ],
      "text/plain": [
       "          Review #\n",
       "count  2580.000000\n",
       "mean   1290.500000\n",
       "std     744.926171\n",
       "min       1.000000\n",
       "25%     645.750000\n",
       "50%    1290.500000\n",
       "75%    1935.250000\n",
       "max    2580.000000"
      ]
     },
     "execution_count": 8,
     "metadata": {},
     "output_type": "execute_result"
    }
   ],
   "source": [
    "df.describe()"
   ]
  },
  {
   "cell_type": "code",
   "execution_count": 9,
   "metadata": {},
   "outputs": [
    {
     "data": {
      "text/plain": [
       "<bound method DataFrame.info of       Review #             Brand  \\\n",
       "0         2580         New Touch   \n",
       "1         2579          Just Way   \n",
       "2         2578            Nissin   \n",
       "3         2577           Wei Lih   \n",
       "4         2576    Ching's Secret   \n",
       "5         2575     Samyang Foods   \n",
       "6         2574           Acecook   \n",
       "7         2573       Ikeda Shoku   \n",
       "8         2572        Ripe'n'Dry   \n",
       "9         2571              KOKA   \n",
       "10        2570       Tao Kae Noi   \n",
       "11        2569          Yamachan   \n",
       "12        2568          Nongshim   \n",
       "13        2567            Nissin   \n",
       "14        2566            Nissin   \n",
       "15        2565              KOKA   \n",
       "16        2564              TRDP   \n",
       "17        2563          Yamachan   \n",
       "18        2562          Binh Tay   \n",
       "19        2561             Paldo   \n",
       "20        2560            Nissin   \n",
       "21        2559  Jackpot Teriyaki   \n",
       "22        2558              KOKA   \n",
       "23        2557          Yamachan   \n",
       "24        2556    Ching's Secret   \n",
       "25        2555     Samyang Foods   \n",
       "26        2554           Yum-Mie   \n",
       "27        2553            Nissin   \n",
       "28        2552           MyKuali   \n",
       "29        2551              KOKA   \n",
       "...        ...               ...   \n",
       "2550        30             Myojo   \n",
       "2551        29          Mee Jang   \n",
       "2552        28            Nissin   \n",
       "2553        27            Nissin   \n",
       "2554        26            Nissin   \n",
       "2555        25            Nissin   \n",
       "2556        24            Nissin   \n",
       "2557        23            Nissin   \n",
       "2558        22          Nongshim   \n",
       "2559        21          Nongshim   \n",
       "2560        20          Nongshim   \n",
       "2561        19          Nongshim   \n",
       "2562        18            Ottogi   \n",
       "2563        17         Quickchow   \n",
       "2564        16           Samyang   \n",
       "2565        15           Samyang   \n",
       "2566        14           Samyang   \n",
       "2567        13   Sapporo Ichiban   \n",
       "2568        12   Sapporo Ichiban   \n",
       "2569        11       Six Fortune   \n",
       "2570        10             Smack   \n",
       "2571         9             Sutah   \n",
       "2572         8            Tung-I   \n",
       "2573         7           Ve Wong   \n",
       "2574         6             Vifon   \n",
       "2575         5             Vifon   \n",
       "2576         4           Wai Wai   \n",
       "2577         3           Wai Wai   \n",
       "2578         2           Wai Wai   \n",
       "2579         1          Westbrae   \n",
       "\n",
       "                                                Variety Style      Country  \\\n",
       "0                             T's Restaurant Tantanmen    Cup        Japan   \n",
       "1     Noodles Spicy Hot Sesame Spicy Hot Sesame Guan...  Pack       Taiwan   \n",
       "2                         Cup Noodles Chicken Vegetable   Cup          USA   \n",
       "3                         GGE Ramen Snack Tomato Flavor  Pack       Taiwan   \n",
       "4                                       Singapore Curry  Pack        India   \n",
       "5                                Kimchi song Song Ramen  Pack  South Korea   \n",
       "6                   Spice Deli Tantan Men With Cilantro   Cup        Japan   \n",
       "7                                 Nabeyaki Kitsune Udon  Tray        Japan   \n",
       "8                              Hokkaido Soy Sauce Ramen  Pack        Japan   \n",
       "9                 The Original Spicy Stir-Fried Noodles  Pack    Singapore   \n",
       "10                          Creamy tom Yum Kung Flavour  Pack     Thailand   \n",
       "11                              Yokohama Tonkotsu Shoyu  Pack          USA   \n",
       "12                   Mr. Bibim Stir-Fried Kimchi Flavor  Pack  South Korea   \n",
       "13                         Deka Buto Kimchi Pork Flavor  Bowl        Japan   \n",
       "14    Demae Ramen Bar Noodle Aka Tonkotsu Flavour In...  Pack    Hong Kong   \n",
       "15                     Mushroom Flavour Instant Noodles   Cup    Singapore   \n",
       "16                                 Mario Masala Noodles  Pack        India   \n",
       "17                                    Tokyo Shoyu Ramen  Pack          USA   \n",
       "18                                           Mi Hai Cua  Pack      Vietnam   \n",
       "19                                      Premium Gomtang  Pack  South Korea   \n",
       "20                            Cup Noodles Laksa Flavour   Cup    Hong Kong   \n",
       "21                                           Beef Ramen  Pack          USA   \n",
       "22    Creamy Soup With Crushed Noodles Hot & Sour Fi...   Cup    Singapore   \n",
       "23                                   Sapporo Miso Ramen  Pack          USA   \n",
       "24                           Hot Garlic Instant Noodles  Pack        India   \n",
       "25                            Song Song Kimchi Big Bowl  Bowl  South Korea   \n",
       "26           Instant Noodles Beef In Light Soup Flavour  Pack        Ghana   \n",
       "27                   Hakata Ramen Noodle White Tonkotsu  Bowl        Japan   \n",
       "28              Penang White Curry Rice Vermicelli Soup  Bowl     Malaysia   \n",
       "29             Signature Tom Yum Flavor Instant Noodles  Pack    Singapore   \n",
       "...                                                 ...   ...          ...   \n",
       "2550                                       Special Duck  Pack        Japan   \n",
       "2551                                     Tom Yum Shrimp  Bowl     Thailand   \n",
       "2552                                       Chikin Ramen  Pack        Japan   \n",
       "2553                           Demae Ramen Curry Flavor  Pack        Japan   \n",
       "2554              Soba Noodles With Mayo Mustard Squirt  Pack        Japan   \n",
       "2555                           Demae Ramen Spicy Flavor  Pack        Japan   \n",
       "2556        Demae Ramen Spicy Seafood With Chili Pepper  Pack        Japan   \n",
       "2557                           Top Ramen Creamy Chicken  Pack          USA   \n",
       "2558                         Ansungtangmyun Noodle Soup  Pack  South Korea   \n",
       "2559                          Champong Oriental Noodles  Pack  South Korea   \n",
       "2560                          Neoguri (Seafood'n'Spicy)  Pack  South Korea   \n",
       "2561                                        Shin Ramyun  Pack  South Korea   \n",
       "2562                              Jin Ramen (Hot Taste)  Pack  South Korea   \n",
       "2563                                     Pancit Palabok  Pack  Philippines   \n",
       "2564                                  Kalgug-Su (Spicy)  Pack  South Korea   \n",
       "2565                                 Pojangmacha U-dong  Pack  South Korea   \n",
       "2566                                                Hot  Pack  South Korea   \n",
       "2567                                          Chow Mein  Pack        Japan   \n",
       "2568                                      Shrimp Flavor  Pack        Japan   \n",
       "2569                 Chicken Flavor Instant Soup Noodle  Pack  South Korea   \n",
       "2570                                     Vegetable Beef  Pack          USA   \n",
       "2571                                         Cup Noodle   Cup  South Korea   \n",
       "2572                   Chinese Beef Instant Rice Noodle  Pack       Taiwan   \n",
       "2573                                      Mushroom Pork  Pack      Vietnam   \n",
       "2574                                           Nam Vang  Pack      Vietnam   \n",
       "2575  Hu Tiu Nam Vang [\"Phnom Penh\" style] Asian Sty...  Bowl      Vietnam   \n",
       "2576                     Oriental Style Instant Noodles  Pack     Thailand   \n",
       "2577                                     Tom Yum Shrimp  Pack     Thailand   \n",
       "2578                               Tom Yum Chili Flavor  Pack     Thailand   \n",
       "2579                                         Miso Ramen  Pack          USA   \n",
       "\n",
       "     Stars  Top Ten  \n",
       "0     3.75      NaN  \n",
       "1        1      NaN  \n",
       "2     2.25      NaN  \n",
       "3     2.75      NaN  \n",
       "4     3.75      NaN  \n",
       "5     4.75      NaN  \n",
       "6        4      NaN  \n",
       "7     3.75      NaN  \n",
       "8     0.25      NaN  \n",
       "9      2.5      NaN  \n",
       "10       5      NaN  \n",
       "11       5      NaN  \n",
       "12    4.25      NaN  \n",
       "13     4.5      NaN  \n",
       "14       5      NaN  \n",
       "15     3.5      NaN  \n",
       "16    3.75      NaN  \n",
       "17       5      NaN  \n",
       "18       4      NaN  \n",
       "19       4      NaN  \n",
       "20    4.25      NaN  \n",
       "21       5      NaN  \n",
       "22       5      NaN  \n",
       "23    4.75      NaN  \n",
       "24    4.25      NaN  \n",
       "25    4.25      NaN  \n",
       "26     3.5      NaN  \n",
       "27    4.75      NaN  \n",
       "28       5      NaN  \n",
       "29       4      NaN  \n",
       "...    ...      ...  \n",
       "2550     1      NaN  \n",
       "2551   3.5      NaN  \n",
       "2552     5      NaN  \n",
       "2553     4      NaN  \n",
       "2554     4      NaN  \n",
       "2555     3      NaN  \n",
       "2556     2      NaN  \n",
       "2557   4.5      NaN  \n",
       "2558  3.75      NaN  \n",
       "2559     4      NaN  \n",
       "2560   3.5      NaN  \n",
       "2561     4      NaN  \n",
       "2562   3.5      NaN  \n",
       "2563   2.5      NaN  \n",
       "2564   3.5      NaN  \n",
       "2565   2.5      NaN  \n",
       "2566   3.5      NaN  \n",
       "2567     5  2012 #4  \n",
       "2568   2.5      NaN  \n",
       "2569     2      NaN  \n",
       "2570   1.5      NaN  \n",
       "2571     2      NaN  \n",
       "2572     3      NaN  \n",
       "2573     1      NaN  \n",
       "2574   2.5      NaN  \n",
       "2575   3.5      NaN  \n",
       "2576     1      NaN  \n",
       "2577     2      NaN  \n",
       "2578     2      NaN  \n",
       "2579   0.5      NaN  \n",
       "\n",
       "[2580 rows x 7 columns]>"
      ]
     },
     "execution_count": 9,
     "metadata": {},
     "output_type": "execute_result"
    }
   ],
   "source": [
    "df.info"
   ]
  },
  {
   "cell_type": "code",
   "execution_count": 10,
   "metadata": {},
   "outputs": [
    {
     "data": {
      "text/plain": [
       "True"
      ]
     },
     "execution_count": 10,
     "metadata": {},
     "output_type": "execute_result"
    }
   ],
   "source": [
    "df.groupby('Top Ten').Country.sort"
   ]
  },
  {
   "cell_type": "code",
   "execution_count": 11,
   "metadata": {},
   "outputs": [
    {
     "data": {
      "text/html": [
       "<div>\n",
       "<style>\n",
       "    .dataframe thead tr:only-child th {\n",
       "        text-align: right;\n",
       "    }\n",
       "\n",
       "    .dataframe thead th {\n",
       "        text-align: left;\n",
       "    }\n",
       "\n",
       "    .dataframe tbody tr th {\n",
       "        vertical-align: top;\n",
       "    }\n",
       "</style>\n",
       "<table border=\"1\" class=\"dataframe\">\n",
       "  <thead>\n",
       "    <tr style=\"text-align: right;\">\n",
       "      <th></th>\n",
       "      <th>Review #</th>\n",
       "      <th>Brand</th>\n",
       "      <th>Variety</th>\n",
       "      <th>Style</th>\n",
       "      <th>Country</th>\n",
       "      <th>Stars</th>\n",
       "      <th>Top Ten</th>\n",
       "    </tr>\n",
       "  </thead>\n",
       "  <tbody>\n",
       "    <tr>\n",
       "      <th>752</th>\n",
       "      <td>1828</td>\n",
       "      <td>Tseng Noodles</td>\n",
       "      <td>Scallion With Sichuan Pepper  Flavor</td>\n",
       "      <td>Pack</td>\n",
       "      <td>Taiwan</td>\n",
       "      <td>5</td>\n",
       "      <td>2016 #9</td>\n",
       "    </tr>\n",
       "    <tr>\n",
       "      <th>655</th>\n",
       "      <td>1925</td>\n",
       "      <td>Prima</td>\n",
       "      <td>Juzz's Mee Creamy Chicken Flavour</td>\n",
       "      <td>Pack</td>\n",
       "      <td>Singapore</td>\n",
       "      <td>5</td>\n",
       "      <td>2016 #8</td>\n",
       "    </tr>\n",
       "    <tr>\n",
       "      <th>891</th>\n",
       "      <td>1689</td>\n",
       "      <td>Wugudaochang</td>\n",
       "      <td>Tomato Beef Brisket Flavor Purple Potato Noodle</td>\n",
       "      <td>Pack</td>\n",
       "      <td>China</td>\n",
       "      <td>5</td>\n",
       "      <td>2016 #7</td>\n",
       "    </tr>\n",
       "    <tr>\n",
       "      <th>673</th>\n",
       "      <td>1907</td>\n",
       "      <td>Prima Taste</td>\n",
       "      <td>Singapore Curry Wholegrain La Mian</td>\n",
       "      <td>Pack</td>\n",
       "      <td>Singapore</td>\n",
       "      <td>5</td>\n",
       "      <td>2016 #5</td>\n",
       "    </tr>\n",
       "    <tr>\n",
       "      <th>616</th>\n",
       "      <td>1964</td>\n",
       "      <td>MAMA</td>\n",
       "      <td>Instant Noodles Coconut Milk Flavour</td>\n",
       "      <td>Pack</td>\n",
       "      <td>Myanmar</td>\n",
       "      <td>5</td>\n",
       "      <td>2016 #10</td>\n",
       "    </tr>\n",
       "  </tbody>\n",
       "</table>\n",
       "</div>"
      ],
      "text/plain": [
       "     Review #          Brand                                          Variety  \\\n",
       "752      1828  Tseng Noodles             Scallion With Sichuan Pepper  Flavor   \n",
       "655      1925          Prima                Juzz's Mee Creamy Chicken Flavour   \n",
       "891      1689   Wugudaochang  Tomato Beef Brisket Flavor Purple Potato Noodle   \n",
       "673      1907    Prima Taste               Singapore Curry Wholegrain La Mian   \n",
       "616      1964           MAMA             Instant Noodles Coconut Milk Flavour   \n",
       "\n",
       "    Style    Country Stars   Top Ten  \n",
       "752  Pack     Taiwan     5   2016 #9  \n",
       "655  Pack  Singapore     5   2016 #8  \n",
       "891  Pack      China     5   2016 #7  \n",
       "673  Pack  Singapore     5   2016 #5  \n",
       "616  Pack    Myanmar     5  2016 #10  "
      ]
     },
     "execution_count": 11,
     "metadata": {},
     "output_type": "execute_result"
    }
   ],
   "source": [
    "df.sort_values(by='Top Ten' , ascending=False) [:5]"
   ]
  },
  {
   "cell_type": "code",
   "execution_count": 12,
   "metadata": {},
   "outputs": [
    {
     "data": {
      "text/plain": [
       "array([[<matplotlib.axes._subplots.AxesSubplot object at 0x000001B516585390>]], dtype=object)"
      ]
     },
     "execution_count": 12,
     "metadata": {},
     "output_type": "execute_result"
    },
    {
     "data": {
      "image/png": "[encoded data removed]",
      "text/plain": [
       "<matplotlib.figure.Figure at 0x1b51655a518>"
      ]
     },
     "metadata": {},
     "output_type": "display_data"
    }
   ],
   "source": [
    "df.sort_values(by='Stars' , ascending=False) [:5].hist(bins=5, rwidth=.8, figsize=(8,10))"
   ]
  },
  {
   "cell_type": "code",
   "execution_count": 13,
   "metadata": {},
   "outputs": [
    {
     "data": {
      "text/plain": [
       "Pack    1531\n",
       "Bowl     481\n",
       "Cup      450\n",
       "Tray     108\n",
       "Box        6\n",
       "Bar        1\n",
       "Can        1\n",
       "Name: Style, dtype: int64"
      ]
     },
     "execution_count": 13,
     "metadata": {},
     "output_type": "execute_result"
    }
   ],
   "source": [
    "df['Style'].value_counts()"
   ]
  },
  {
   "cell_type": "code",
   "execution_count": 14,
   "metadata": {},
   "outputs": [
    {
     "data": {
      "text/plain": [
       "<matplotlib.axes._subplots.AxesSubplot at 0x1b5168319e8>"
      ]
     },
     "execution_count": 14,
     "metadata": {},
     "output_type": "execute_result"
    },
    {
     "data": {
      "image/png": "[encoded data removed]",
      "text/plain": [
       "<matplotlib.figure.Figure at 0x1b516706a20>"
      ]
     },
     "metadata": {},
     "output_type": "display_data"
    }
   ],
   "source": [
    "df['Style'].hist(bins=30,figsize=(6,5))"
   ]
  },
  {
   "cell_type": "code",
   "execution_count": 15,
   "metadata": {},
   "outputs": [
    {
     "data": {
      "text/plain": [
       "Nissin      381\n",
       "Nongshim     98\n",
       "Maruchan     76\n",
       "Mama         71\n",
       "Paldo        66\n",
       "Name: Brand, dtype: int64"
      ]
     },
     "execution_count": 15,
     "metadata": {},
     "output_type": "execute_result"
    }
   ],
   "source": [
    "df['Brand'].value_counts()[:5]"
   ]
  },
  {
   "cell_type": "markdown",
   "metadata": {},
   "source": [
    "<h1> Countries with Highest Ramen Reviews<h1/>"
   ]
  },
  {
   "cell_type": "code",
   "execution_count": 16,
   "metadata": {},
   "outputs": [
    {
     "data": {
      "text/plain": [
       "Japan          352\n",
       "USA            323\n",
       "South Korea    309\n",
       "Taiwan         224\n",
       "Thailand       191\n",
       "Name: Country, dtype: int64"
      ]
     },
     "execution_count": 16,
     "metadata": {},
     "output_type": "execute_result"
    }
   ],
   "source": [
    "df['Country'].value_counts()[:5]"
   ]
  },
  {
   "cell_type": "markdown",
   "metadata": {},
   "source": [
    "<h2>Reviews</h2>\n",
    "<br>\n",
    "Number of reviews and its respective ratings."
   ]
  },
  {
   "cell_type": "code",
   "execution_count": 17,
   "metadata": {},
   "outputs": [
    {
     "data": {
      "text/plain": [
       "4       393\n",
       "5       386\n",
       "3.75    350\n",
       "3.5     335\n",
       "3       176\n",
       "Name: Stars, dtype: int64"
      ]
     },
     "execution_count": 17,
     "metadata": {},
     "output_type": "execute_result"
    }
   ],
   "source": [
    "df['Stars'].value_counts()[:5]"
   ]
  },
  {
   "cell_type": "code",
   "execution_count": 18,
   "metadata": {},
   "outputs": [
    {
     "data": {
      "text/plain": [
       "Style\n",
       "Bar                                                     5\n",
       "Bowl    4.54.254.75543.754.754.54.54.5553.5054.2544.75...\n",
       "Box                                           1.555554.25\n",
       "Can                                                   3.5\n",
       "Cup     3.752.2543.54.255553.75555553.753.753.75534.53...\n",
       "Name: Stars, dtype: object"
      ]
     },
     "execution_count": 18,
     "metadata": {},
     "output_type": "execute_result"
    }
   ],
   "source": [
    "df.groupby('Style').Stars.sum()[:5]"
   ]
  },
  {
   "cell_type": "code",
   "execution_count": 19,
   "metadata": {},
   "outputs": [
    {
     "data": {
      "text/plain": [
       "Top Ten\n",
       "\\n          Namja RamyunMi Goreng Rasa Ayam Panggang Jumbo...\n",
       "2012 #1                            Special Fried Curly Noodle\n",
       "2012 #10                                   Spicy Black Pepper\n",
       "2012 #2                      Mi Goreng Jumbo Barbecue Chicken\n",
       "2012 #3                              Yakisoba Noodles Karashi\n",
       "Name: Variety, dtype: object"
      ]
     },
     "execution_count": 19,
     "metadata": {},
     "output_type": "execute_result"
    }
   ],
   "source": [
    "df.groupby('Top Ten').Variety.sum()[:5]"
   ]
  },
  {
   "cell_type": "code",
   "execution_count": 20,
   "metadata": {},
   "outputs": [
    {
     "data": {
      "text/plain": [
       "Top Ten\n",
       "\\n          PaldoIndomieNongshimIndomie\n",
       "2012 #1                         Indomie\n",
       "2012 #10                           Koka\n",
       "2012 #2                         Indomie\n",
       "2012 #3                          Nissin\n",
       "Name: Brand, dtype: object"
      ]
     },
     "execution_count": 20,
     "metadata": {},
     "output_type": "execute_result"
    }
   ],
   "source": [
    "df.groupby('Top Ten').Brand.sum()[:5]"
   ]
  },
  {
   "cell_type": "code",
   "execution_count": 21,
   "metadata": {},
   "outputs": [
    {
     "data": {
      "text/plain": [
       "Country\n",
       "Australia         3433344412.532.2553.254.33.25223.52.752.753.5\n",
       "Bangladesh                                      443.53.25443.25\n",
       "Brazil                                               444.554.25\n",
       "Cambodia                                              3.553.545\n",
       "Canada        33343.53.53.50033.53.252.750.25025051.510.51.7...\n",
       "Name: Stars, dtype: object"
      ]
     },
     "execution_count": 21,
     "metadata": {},
     "output_type": "execute_result"
    }
   ],
   "source": [
    "df.groupby('Country').Stars.sum()[:5]"
   ]
  },
  {
   "cell_type": "code",
   "execution_count": 25,
   "metadata": {},
   "outputs": [
    {
     "data": {
      "text/plain": [
       "(Text(0.5,1,'Top 5 Ramen'), Text(0.5,0,'Country'), Text(0,0.5,'Reviews'))"
      ]
     },
     "execution_count": 25,
     "metadata": {},
     "output_type": "execute_result"
    },
    {
     "data": {
      "image/png": "[encoded data removed]",
      "text/plain": [
       "<matplotlib.figure.Figure at 0x1b516a4d208>"
      ]
     },
     "metadata": {},
     "output_type": "display_data"
    }
   ],
   "source": [
    "df['Country'].hist(bins=5,rwidth=.8,figsize=(16,10))\n",
    "plt.title('Top 5 Ramen') , plt.xlabel('Country'), plt.ylabel('Reviews')"
   ]
  },
  {
   "cell_type": "code",
   "execution_count": 26,
   "metadata": {},
   "outputs": [
    {
     "data": {
      "text/plain": [
       "Top Ten\n",
       "\\n          South KoreaIndonesiaSouth KoreaIndonesia\n",
       "2012 #1                                    Indonesia\n",
       "2012 #10                                   Singapore\n",
       "2012 #2                                    Indonesia\n",
       "2012 #3                                        Japan\n",
       "Name: Country, dtype: object"
      ]
     },
     "execution_count": 26,
     "metadata": {},
     "output_type": "execute_result"
    }
   ],
   "source": [
    "df.groupby('Top Ten').Country.sum()[:5]"
   ]
  },
  {
   "cell_type": "code",
   "execution_count": 27,
   "metadata": {},
   "outputs": [
    {
     "data": {
      "text/plain": [
       "Top Ten\n",
       "\\n          BowlPackCupPack\n",
       "2012 #1                Pack\n",
       "2012 #10               Pack\n",
       "2012 #2                Pack\n",
       "2012 #3                Tray\n",
       "Name: Style, dtype: object"
      ]
     },
     "execution_count": 27,
     "metadata": {},
     "output_type": "execute_result"
    }
   ],
   "source": [
    "df.groupby('Top Ten').Style.sum()[:5]"
   ]
  },
  {
   "cell_type": "code",
   "execution_count": 28,
   "metadata": {},
   "outputs": [
    {
     "data": {
      "text/plain": [
       "<matplotlib.axes._subplots.AxesSubplot at 0x1b516f8f8d0>"
      ]
     },
     "execution_count": 28,
     "metadata": {},
     "output_type": "execute_result"
    },
    {
     "data": {
      "image/png": "[encoded data removed]",
      "text/plain": [
       "<matplotlib.figure.Figure at 0x1b516fbf710>"
      ]
     },
     "metadata": {},
     "output_type": "display_data"
    }
   ],
   "source": [
    "df['Stars'].hist(bins=11,rwidth=0.9,figsize=(30,15))"
   ]
  },
  {
   "cell_type": "code",
   "execution_count": 27,
   "metadata": {},
   "outputs": [
    {
     "data": {
      "text/plain": [
       "Top Ten\n",
       "\\n          PaldoIndomieNongshimIndomie\n",
       "2012 #1                         Indomie\n",
       "2012 #10                           Koka\n",
       "2012 #2                         Indomie\n",
       "2012 #3                          Nissin\n",
       "2012 #4                 Sapporo Ichiban\n",
       "2012 #5                       Mi Sedaap\n",
       "2012 #6                           Myojo\n",
       "2012 #7                        Nongshim\n",
       "2012 #9                            Doll\n",
       "Name: Brand, dtype: object"
      ]
     },
     "execution_count": 27,
     "metadata": {},
     "output_type": "execute_result"
    }
   ],
   "source": [
    "df.groupby('Top Ten').Brand.sum()[:10]"
   ]
  },
  {
   "cell_type": "code",
   "execution_count": 43,
   "metadata": {},
   "outputs": [
    {
     "data": {
      "text/plain": [
       "<seaborn.axisgrid.PairGrid at 0x225ed88dd30>"
      ]
     },
     "execution_count": 43,
     "metadata": {},
     "output_type": "execute_result"
    },
    {
     "data": {
      "image/png": "[encoded data removed]",
      "text/plain": [
       "<matplotlib.figure.Figure at 0x225ed896470>"
      ]
     },
     "metadata": {},
     "output_type": "display_data"
    }
   ],
   "source": [
    "sns.pairplot(df,hue='Top Ten')"
   ]
  },
  {
   "cell_type": "code",
   "execution_count": 29,
   "metadata": {},
   "outputs": [
    {
     "data": {
      "text/plain": [
       "<seaborn.axisgrid.PairGrid at 0x225eb937b38>"
      ]
     },
     "execution_count": 29,
     "metadata": {},
     "output_type": "execute_result"
    },
    {
     "data": {
      "image/png": "[encoded data removed]",
      "text/plain": [
       "<matplotlib.figure.Figure at 0x225eb937cf8>"
      ]
     },
     "metadata": {},
     "output_type": "display_data"
    }
   ],
   "source": [
    "sns.pairplot(df, hue='Country')"
   ]
  },
  {
   "cell_type": "code",
   "execution_count": 35,
   "metadata": {},
   "outputs": [
    {
     "data": {
      "text/plain": [
       "<matplotlib.axes._subplots.AxesSubplot at 0x225ec613208>"
      ]
     },
     "execution_count": 35,
     "metadata": {},
     "output_type": "execute_result"
    },
    {
     "data": {
      "image/png": "[encoded data removed]",
      "text/plain": [
       "<matplotlib.figure.Figure at 0x225ec64c470>"
      ]
     },
     "metadata": {},
     "output_type": "display_data"
    }
   ],
   "source": [
    "df['Top Ten'].value_counts()[:5].plot(kind='barh')"
   ]
  },
  {
   "cell_type": "code",
   "execution_count": 37,
   "metadata": {},
   "outputs": [
    {
     "data": {
      "text/plain": [
       "<matplotlib.axes._subplots.AxesSubplot at 0x225ecaebc50>"
      ]
     },
     "execution_count": 37,
     "metadata": {},
     "output_type": "execute_result"
    },
    {
     "data": {
      "image/png": "[encoded data removed]",
      "text/plain": [
       "<matplotlib.figure.Figure at 0x225eca9cf98>"
      ]
     },
     "metadata": {},
     "output_type": "display_data"
    }
   ],
   "source": [
    "df['Country'].value_counts()[:5].plot(kind='barh')"
   ]
  },
  {
   "cell_type": "code",
   "execution_count": 39,
   "metadata": {},
   "outputs": [
    {
     "data": {
      "text/plain": [
       "<matplotlib.axes._subplots.AxesSubplot at 0x225ee14ccc0>"
      ]
     },
     "execution_count": 39,
     "metadata": {},
     "output_type": "execute_result"
    },
    {
     "data": {
      "image/png": "[encoded data removed]",
      "text/plain": [
       "<matplotlib.figure.Figure at 0x225ed443208>"
      ]
     },
     "metadata": {},
     "output_type": "display_data"
    }
   ],
   "source": [
    "df['Style'].value_counts()[:5].plot(kind='bar')"
   ]
  },
  {
   "cell_type": "code",
   "execution_count": 36,
   "metadata": {},
   "outputs": [
    {
     "data": {
      "text/plain": [
       "array([[<matplotlib.axes._subplots.AxesSubplot object at 0x00000225EC8B5128>,\n",
       "        <matplotlib.axes._subplots.AxesSubplot object at 0x00000225EC8D42E8>,\n",
       "        <matplotlib.axes._subplots.AxesSubplot object at 0x00000225EC911828>],\n",
       "       [<matplotlib.axes._subplots.AxesSubplot object at 0x00000225EC949D68>,\n",
       "        <matplotlib.axes._subplots.AxesSubplot object at 0x00000225EC98E2E8>,\n",
       "        <matplotlib.axes._subplots.AxesSubplot object at 0x00000225EC98E320>],\n",
       "       [<matplotlib.axes._subplots.AxesSubplot object at 0x00000225EC9E5E48>,\n",
       "        <matplotlib.axes._subplots.AxesSubplot object at 0x00000225ECA23E48>,\n",
       "        <matplotlib.axes._subplots.AxesSubplot object at 0x00000225ECA5DE48>]], dtype=object)"
      ]
     },
     "execution_count": 36,
     "metadata": {},
     "output_type": "execute_result"
    },
    {
     "data": {
      "image/png": "[encoded data removed]",
      "text/plain": [
       "<matplotlib.figure.Figure at 0x225ec6959e8>"
      ]
     },
     "metadata": {},
     "output_type": "display_data"
    }
   ],
   "source": [
    "df.hist(column='Top Ten',by='Style', bins=60,figsize=(25,25))"
   ]
  },
  {
   "cell_type": "code",
   "execution_count": null,
   "metadata": {},
   "outputs": [],
   "source": []
  }
 ],
 "metadata": {
  "kernelspec": {
   "display_name": "Python 3",
   "language": "python",
   "name": "python3"
  },
  "language_info": {
   "codemirror_mode": {
    "name": "ipython",
    "version": 3
   },
   "file_extension": ".py",
   "mimetype": "text/x-python",
   "name": "python",
   "nbconvert_exporter": "python",
   "pygments_lexer": "ipython3",
   "version": "3.6.3"
  }
 },
 "nbformat": 4,
 "nbformat_minor": 2
}
